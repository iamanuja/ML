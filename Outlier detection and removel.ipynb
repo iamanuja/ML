{
 "cells": [
  {
   "cell_type": "code",
   "execution_count": 1,
   "id": "d51b46f1",
   "metadata": {},
   "outputs": [
    {
     "ename": "SyntaxError",
     "evalue": "invalid syntax (3616441162.py, line 1)",
     "output_type": "error",
     "traceback": [
      "\u001b[1;36m  Cell \u001b[1;32mIn[1], line 1\u001b[1;36m\u001b[0m\n\u001b[1;33m    https://plotly.com/python/getting-started/#:~:text=Plotly%20is%20a%20free%20and,to%20some%20Basic%20Charts%20tutorials.\u001b[0m\n\u001b[1;37m          ^\u001b[0m\n\u001b[1;31mSyntaxError\u001b[0m\u001b[1;31m:\u001b[0m invalid syntax\n"
     ]
    }
   ],
   "source": [
    "https://plotly.com/python/getting-started/#:~:text=Plotly%20is%20a%20free%20and,to%20some%20Basic%20Charts%20tutorials."
   ]
  },
  {
   "cell_type": "code",
   "execution_count": null,
   "id": "2423b405",
   "metadata": {},
   "outputs": [],
   "source": [
    "https://plotly.com/python/getting-started/"
   ]
  },
  {
   "cell_type": "code",
   "execution_count": null,
   "id": "8d8b2e8b",
   "metadata": {},
   "outputs": [],
   "source": []
  },
  {
   "cell_type": "code",
   "execution_count": null,
   "id": "e16034c1",
   "metadata": {},
   "outputs": [],
   "source": []
  },
  {
   "cell_type": "code",
   "execution_count": null,
   "id": "9b770b7f",
   "metadata": {},
   "outputs": [],
   "source": []
  },
  {
   "cell_type": "markdown",
   "id": "17fd4a2e",
   "metadata": {},
   "source": [
    " https://towardsdatascience.com/outlier-detection-methods-in-machine-learning-1c8b7cca6cb8\n",
    " \n",
    "https://www.freecodecamp.org/news/how-to-detect-outliers-in-machine-learning/#:~:text=Outliers%20are%20those%20data%20points,data%20entry%2C%20or%20erroneous%20observations.\n",
    "\n",
    "https://www.analyticsvidhya.com/blog/2021/05/feature-engineering-how-to-detect-and-remove-outliers-with-python-code/\n",
    "\n",
    " https://www.analyticsvidhya.com/blog/2021/05/detecting-and-treating-outliers-treating-the-odd-one-out/ \n",
    " \n",
    " https://machinelearningmastery.com/how-to-use-statistics-to-identify-outliers-in-data/\n",
    "    \n",
    "    "
   ]
  },
  {
   "cell_type": "markdown",
   "id": "6cf9d7de",
   "metadata": {},
   "source": [
    "https://www.analyticsvidhya.com/blog/2023/01/learning-different-techniques-of-anomaly-detection/"
   ]
  },
  {
   "cell_type": "markdown",
   "id": "816f3caa",
   "metadata": {},
   "source": [
    "https://www.analyticsvidhya.com/blog/2020/04/statistics-data-science-normal-distribution/"
   ]
  },
  {
   "cell_type": "markdown",
   "id": "aca57609",
   "metadata": {},
   "source": [
    "https://www.analyticsvidhya.com/blog/2021/05/why-you-shouldnt-just-delete-outliers/"
   ]
  },
  {
   "cell_type": "markdown",
   "id": "c571768f",
   "metadata": {},
   "source": [
    "data, or certain features ==> follow a **normal distribution** ==> use the **SD of data** or the equivalent **z-score** to detect outliers."
   ]
  },
  {
   "cell_type": "markdown",
   "id": "f3d31664",
   "metadata": {},
   "source": [
    "standard deviation =>captures **how far away from the mean** the data points are.\n",
    "\n",
    "non-Gaussian distribution sample of data is the Interquartile Range, or IQR for short."
   ]
  },
  {
   "attachments": {
    "image.png": {
     "image/png": "[encoded data removed]"
    }
   },
   "cell_type": "markdown",
   "id": "f8f2c978",
   "metadata": {},
   "source": [
    "![image.png](attachment:image.png)"
   ]
  },
  {
   "cell_type": "markdown",
   "id": "69b63aed",
   "metadata": {},
   "source": [
    "https://www.analyticsvidhya.com/blog/2020/04/statistics-data-science-normal-distribution/"
   ]
  },
  {
   "cell_type": "markdown",
   "id": "8cbb701b",
   "metadata": {},
   "source": [
    "# methods are used to treat outliers =>"
   ]
  },
  {
   "cell_type": "markdown",
   "id": "2c893b2c",
   "metadata": {},
   "source": [
    "**1.Deletion:** This method involves simply removing the outliers from the dataset. It can be appropriate when the outliers are believed to be due to data entry errors or measurement errors. However, caution should be exercised as deleting outliers without a good reason can potentially bias the analysis and distort the results.\n",
    "\n",
    "\n",
    "**2. Transformation:** Transforming the data using **mathematical functions** can sometimes **reduce the impact of outliers**. Common transformations include taking the **logarithm, square root, or reciprocal of the data**. These transformations can help **make the data more normally distributed and stabilize the variance**. **replacing values** that **exceed threshold** with the **nearest values that fall within that threshold**. The purpose of Winsorization is to mitigate the impact of extreme values on statistical analyses and to create a more robust and stable dataset. By replacing extreme values with less extreme ones\n",
    "\n",
    "**3. Winsorization:** Winsorization replaces extreme data values with less extreme values. The process involves capping or truncating the extreme values at a certain percentile (e.g., replacing values above the 95th percentile with the value at the 95th percentile). This approach reduces the influence of outliers while still retaining some information from the extreme values.\n",
    "\n",
    "**4. Imputation:**  **include replacing outliers with the mean, median,** or another suitable value based on the characteristics of the data. \n",
    "\n",
    "**5. Robust methods:** Robust **statistical methods are designed to be less sensitive to outliers**. These methods estimate parameters using robust estimators that are not heavily influenced by extreme values. For example, the **median is a robust measure of central tendency** that is less affected by outliers compared to the mean.\n",
    "\n",
    "**6. Model-based approaches:** In some cases, outliers can be detected and treated using specific models. For example, in regression analysis, influential outliers can be identified using diagnostic measures like Cook’s distance or studentized residuals. Once identified, the outliers can be downweighted or excluded from the analysis."
   ]
  },
  {
   "cell_type": "markdown",
   "id": "0361d480",
   "metadata": {},
   "source": [
    "# MIDWRT\n",
    "\n",
    "Model,Imputation,Deletion, Winsorization,Robust,Transformation"
   ]
  },
  {
   "cell_type": "markdown",
   "id": "8f7efd26",
   "metadata": {},
   "source": [
    "# most popular outlier detection techniques =>\n",
    "\n",
    "1. Z-Score\n",
    "1. IQR (Interquartile Range)\n",
    "1. Mahalanobis Distance,\n",
    "1. DBSCAN (Density-Based Spatial Clustering of Applications with Noise,\n",
    "1. Local Outlier Factor (LOF),\n",
    "1. One-Class SVM (Support Vector Machine)."
   ]
  },
  {
   "cell_type": "code",
   "execution_count": 2,
   "id": "25978e31",
   "metadata": {},
   "outputs": [],
   "source": [
    "#Box plot, Scatter plot, and Histogram useful => to identify outliers "
   ]
  },
  {
   "cell_type": "code",
   "execution_count": null,
   "id": "6862b23a",
   "metadata": {},
   "outputs": [],
   "source": [
    "https://statisticsbyjim.com/graphs/box-plot/"
   ]
  },
  {
   "cell_type": "code",
   "execution_count": 1,
   "id": "e7c15c14",
   "metadata": {},
   "outputs": [],
   "source": [
    "import numpy as np\n",
    "import pandas as pd\n",
    "import warnings\n",
    "warnings.filterwarnings('ignore')\n",
    "import matplotlib.pyplot as plt\n",
    "import seaborn as sns\n",
    "import plotly.express as px"
   ]
  },
  {
   "cell_type": "code",
   "execution_count": 4,
   "id": "c6661382",
   "metadata": {},
   "outputs": [
    {
     "data": {
      "text/html": [
       "<div>\n",
       "<style scoped>\n",
       "    .dataframe tbody tr th:only-of-type {\n",
       "        vertical-align: middle;\n",
       "    }\n",
       "\n",
       "    .dataframe tbody tr th {\n",
       "        vertical-align: top;\n",
       "    }\n",
       "\n",
       "    .dataframe thead th {\n",
       "        text-align: right;\n",
       "    }\n",
       "</style>\n",
       "<table border=\"1\" class=\"dataframe\">\n",
       "  <thead>\n",
       "    <tr style=\"text-align: right;\">\n",
       "      <th></th>\n",
       "      <th>Customer ID</th>\n",
       "      <th>Credit_Amount</th>\n",
       "      <th>Gender</th>\n",
       "      <th>Academic_Qualification</th>\n",
       "      <th>Marital</th>\n",
       "      <th>Age_Years</th>\n",
       "      <th>Repayment_Status_Jan</th>\n",
       "      <th>Repayment_Status_Feb</th>\n",
       "      <th>Repayment_Status_March</th>\n",
       "      <th>Repayment_Status_April</th>\n",
       "      <th>...</th>\n",
       "      <th>April_Bill_Amount</th>\n",
       "      <th>May_Bill_Amount</th>\n",
       "      <th>June_Bill_Amount</th>\n",
       "      <th>Previous_Payment_Jan</th>\n",
       "      <th>Previous_Payment_Feb</th>\n",
       "      <th>Previous_Payment_March</th>\n",
       "      <th>Previous_Payment_April</th>\n",
       "      <th>Previous_Payment_May</th>\n",
       "      <th>Previous_Payment_June</th>\n",
       "      <th>Default_Payment</th>\n",
       "    </tr>\n",
       "  </thead>\n",
       "  <tbody>\n",
       "    <tr>\n",
       "      <th>0</th>\n",
       "      <td>1</td>\n",
       "      <td>20000.0</td>\n",
       "      <td>2</td>\n",
       "      <td>2</td>\n",
       "      <td>1</td>\n",
       "      <td>24</td>\n",
       "      <td>2</td>\n",
       "      <td>2</td>\n",
       "      <td>0</td>\n",
       "      <td>0</td>\n",
       "      <td>...</td>\n",
       "      <td>0.0</td>\n",
       "      <td>0.0</td>\n",
       "      <td>0.0</td>\n",
       "      <td>0.0</td>\n",
       "      <td>679.0</td>\n",
       "      <td>0.0</td>\n",
       "      <td>0.0</td>\n",
       "      <td>0.0</td>\n",
       "      <td>0.0</td>\n",
       "      <td>1</td>\n",
       "    </tr>\n",
       "    <tr>\n",
       "      <th>1</th>\n",
       "      <td>2</td>\n",
       "      <td>220000.0</td>\n",
       "      <td>2</td>\n",
       "      <td>2</td>\n",
       "      <td>2</td>\n",
       "      <td>26</td>\n",
       "      <td>0</td>\n",
       "      <td>2</td>\n",
       "      <td>0</td>\n",
       "      <td>0</td>\n",
       "      <td>...</td>\n",
       "      <td>3272.0</td>\n",
       "      <td>3455.0</td>\n",
       "      <td>3261.0</td>\n",
       "      <td>0.0</td>\n",
       "      <td>2000.0</td>\n",
       "      <td>1000.0</td>\n",
       "      <td>1000.0</td>\n",
       "      <td>0.0</td>\n",
       "      <td>2000.0</td>\n",
       "      <td>1</td>\n",
       "    </tr>\n",
       "    <tr>\n",
       "      <th>2</th>\n",
       "      <td>3</td>\n",
       "      <td>90000.0</td>\n",
       "      <td>2</td>\n",
       "      <td>2</td>\n",
       "      <td>2</td>\n",
       "      <td>34</td>\n",
       "      <td>0</td>\n",
       "      <td>0</td>\n",
       "      <td>0</td>\n",
       "      <td>0</td>\n",
       "      <td>...</td>\n",
       "      <td>24332.0</td>\n",
       "      <td>14848.0</td>\n",
       "      <td>15548.0</td>\n",
       "      <td>1619.0</td>\n",
       "      <td>2500.0</td>\n",
       "      <td>1000.0</td>\n",
       "      <td>1000.0</td>\n",
       "      <td>1000.0</td>\n",
       "      <td>5000.0</td>\n",
       "      <td>0</td>\n",
       "    </tr>\n",
       "    <tr>\n",
       "      <th>3</th>\n",
       "      <td>4</td>\n",
       "      <td>50000.0</td>\n",
       "      <td>2</td>\n",
       "      <td>2</td>\n",
       "      <td>1</td>\n",
       "      <td>37</td>\n",
       "      <td>0</td>\n",
       "      <td>0</td>\n",
       "      <td>0</td>\n",
       "      <td>0</td>\n",
       "      <td>...</td>\n",
       "      <td>29324.0</td>\n",
       "      <td>28858.0</td>\n",
       "      <td>28547.0</td>\n",
       "      <td>3000.0</td>\n",
       "      <td>2029.0</td>\n",
       "      <td>1200.0</td>\n",
       "      <td>1100.0</td>\n",
       "      <td>1069.0</td>\n",
       "      <td>1000.0</td>\n",
       "      <td>0</td>\n",
       "    </tr>\n",
       "    <tr>\n",
       "      <th>4</th>\n",
       "      <td>5</td>\n",
       "      <td>50000.0</td>\n",
       "      <td>1</td>\n",
       "      <td>2</td>\n",
       "      <td>1</td>\n",
       "      <td>57</td>\n",
       "      <td>0</td>\n",
       "      <td>0</td>\n",
       "      <td>0</td>\n",
       "      <td>0</td>\n",
       "      <td>...</td>\n",
       "      <td>20940.0</td>\n",
       "      <td>18146.0</td>\n",
       "      <td>18131.0</td>\n",
       "      <td>3000.0</td>\n",
       "      <td>36672.0</td>\n",
       "      <td>10000.0</td>\n",
       "      <td>9000.0</td>\n",
       "      <td>689.0</td>\n",
       "      <td>679.0</td>\n",
       "      <td>0</td>\n",
       "    </tr>\n",
       "  </tbody>\n",
       "</table>\n",
       "<p>5 rows × 25 columns</p>\n",
       "</div>"
      ],
      "text/plain": [
       "   Customer ID  Credit_Amount  Gender  Academic_Qualification  Marital  \\\n",
       "0            1        20000.0       2                       2        1   \n",
       "1            2       220000.0       2                       2        2   \n",
       "2            3        90000.0       2                       2        2   \n",
       "3            4        50000.0       2                       2        1   \n",
       "4            5        50000.0       1                       2        1   \n",
       "\n",
       "   Age_Years  Repayment_Status_Jan  Repayment_Status_Feb  \\\n",
       "0         24                     2                     2   \n",
       "1         26                     0                     2   \n",
       "2         34                     0                     0   \n",
       "3         37                     0                     0   \n",
       "4         57                     0                     0   \n",
       "\n",
       "   Repayment_Status_March  Repayment_Status_April  ...  April_Bill_Amount  \\\n",
       "0                       0                       0  ...                0.0   \n",
       "1                       0                       0  ...             3272.0   \n",
       "2                       0                       0  ...            24332.0   \n",
       "3                       0                       0  ...            29324.0   \n",
       "4                       0                       0  ...            20940.0   \n",
       "\n",
       "   May_Bill_Amount  June_Bill_Amount  Previous_Payment_Jan  \\\n",
       "0              0.0               0.0                   0.0   \n",
       "1           3455.0            3261.0                   0.0   \n",
       "2          14848.0           15548.0                1619.0   \n",
       "3          28858.0           28547.0                3000.0   \n",
       "4          18146.0           18131.0                3000.0   \n",
       "\n",
       "   Previous_Payment_Feb  Previous_Payment_March  Previous_Payment_April  \\\n",
       "0                 679.0                     0.0                     0.0   \n",
       "1                2000.0                  1000.0                  1000.0   \n",
       "2                2500.0                  1000.0                  1000.0   \n",
       "3                2029.0                  1200.0                  1100.0   \n",
       "4               36672.0                 10000.0                  9000.0   \n",
       "\n",
       "   Previous_Payment_May  Previous_Payment_June  Default_Payment  \n",
       "0                   0.0                    0.0                1  \n",
       "1                   0.0                 2000.0                1  \n",
       "2                1000.0                 5000.0                0  \n",
       "3                1069.0                 1000.0                0  \n",
       "4                 689.0                  679.0                0  \n",
       "\n",
       "[5 rows x 25 columns]"
      ]
     },
     "execution_count": 4,
     "metadata": {},
     "output_type": "execute_result"
    }
   ],
   "source": [
    "df=pd.read_csv(r\"C:\\Users\\Anuja\\Music\\New folder\\BankCreditCard.csv\")\n",
    "df.head()"
   ]
  },
  {
   "cell_type": "code",
   "execution_count": 5,
   "id": "fbc9c0cc",
   "metadata": {},
   "outputs": [],
   "source": [
    "df.drop(\"Customer ID\",inplace=True,axis=1)"
   ]
  },
  {
   "cell_type": "code",
   "execution_count": 6,
   "id": "cdde008f",
   "metadata": {},
   "outputs": [
    {
     "data": {
      "text/plain": [
       "Index(['Credit_Amount', 'Gender', 'Academic_Qualification', 'Marital',\n",
       "       'Age_Years', 'Repayment_Status_Jan', 'Repayment_Status_Feb',\n",
       "       'Repayment_Status_March', 'Repayment_Status_April',\n",
       "       'Repayment_Status_May', 'Repayment_Status_June', 'Jan_Bill_Amount',\n",
       "       'Feb_Bill_Amount', 'March_Bill_Amount', 'April_Bill_Amount',\n",
       "       'May_Bill_Amount', 'June_Bill_Amount', 'Previous_Payment_Jan',\n",
       "       'Previous_Payment_Feb', 'Previous_Payment_March',\n",
       "       'Previous_Payment_April', 'Previous_Payment_May',\n",
       "       'Previous_Payment_June', 'Default_Payment'],\n",
       "      dtype='object')"
      ]
     },
     "execution_count": 6,
     "metadata": {},
     "output_type": "execute_result"
    }
   ],
   "source": [
    "df.columns"
   ]
  },
  {
   "cell_type": "code",
   "execution_count": 7,
   "id": "3fa4948c",
   "metadata": {
    "scrolled": true
   },
   "outputs": [],
   "source": [
    "#df.plot(kind=\"box\",subplots=True,layout=(13,2),figsize=(15,30));"
   ]
  },
  {
   "cell_type": "code",
   "execution_count": 8,
   "id": "8bd8387a",
   "metadata": {},
   "outputs": [],
   "source": [
    "#fig = px.box(df)\n",
    "#fig.show()\n"
   ]
  },
  {
   "cell_type": "code",
   "execution_count": 9,
   "id": "e48baebd",
   "metadata": {},
   "outputs": [],
   "source": [
    "data=df"
   ]
  },
  {
   "cell_type": "code",
   "execution_count": 10,
   "id": "d8c2dea1",
   "metadata": {},
   "outputs": [],
   "source": [
    "df_Jan_Bill_Amount = pd.DataFrame(data,columns=['Jan_Bill_Amount'])"
   ]
  },
  {
   "cell_type": "code",
   "execution_count": 11,
   "id": "4af0d30e",
   "metadata": {},
   "outputs": [],
   "source": [
    "lower_limit = df_Jan_Bill_Amount.mean() - 3*df_Jan_Bill_Amount.std()\n",
    "upper_limit = df_Jan_Bill_Amount.mean() + 3*df_Jan_Bill_Amount.std()"
   ]
  },
  {
   "cell_type": "code",
   "execution_count": 12,
   "id": "f6665bdb",
   "metadata": {},
   "outputs": [
    {
     "name": "stdout",
     "output_type": "stream",
     "text": [
      "Jan_Bill_Amount   -287498.058002\n",
      "dtype: float64\n",
      "Jan_Bill_Amount    450660.178202\n",
      "dtype: float64\n"
     ]
    }
   ],
   "source": [
    "print(lower_limit)\n",
    "print(upper_limit)"
   ]
  },
  {
   "cell_type": "code",
   "execution_count": 13,
   "id": "9ef463ee",
   "metadata": {},
   "outputs": [
    {
     "ename": "NameError",
     "evalue": "name 'df_scores' is not defined",
     "output_type": "error",
     "traceback": [
      "\u001b[1;31m---------------------------------------------------------------------------\u001b[0m",
      "\u001b[1;31mNameError\u001b[0m                                 Traceback (most recent call last)",
      "Cell \u001b[1;32mIn[13], line 1\u001b[0m\n\u001b[1;32m----> 1\u001b[0m df_scores_filtered\u001b[38;5;241m=\u001b[39m\u001b[43mdf_scores\u001b[49m[(df_scores[\u001b[38;5;124m'\u001b[39m\u001b[38;5;124mscore\u001b[39m\u001b[38;5;124m'\u001b[39m]\u001b[38;5;241m>\u001b[39mlower_limit)\u001b[38;5;241m&\u001b[39m(df_scores[\u001b[38;5;124m'\u001b[39m\u001b[38;5;124mscore\u001b[39m\u001b[38;5;124m'\u001b[39m]\u001b[38;5;241m<\u001b[39mupper_limit)]\n\u001b[0;32m      2\u001b[0m \u001b[38;5;28mprint\u001b[39m(df_scores_filtered)\n",
      "\u001b[1;31mNameError\u001b[0m: name 'df_scores' is not defined"
     ]
    }
   ],
   "source": [
    "df_scores_filtered=df_scores[(df_scores['score']>lower_limit)&(df_scores['score']<upper_limit)]\n",
    "print(df_scores_filtered)"
   ]
  }
 ],
 "metadata": {
  "kernelspec": {
   "display_name": "Python 3 (ipykernel)",
   "language": "python",
   "name": "python3"
  },
  "language_info": {
   "codemirror_mode": {
    "name": "ipython",
    "version": 3
   },
   "file_extension": ".py",
   "mimetype": "text/x-python",
   "name": "python",
   "nbconvert_exporter": "python",
   "pygments_lexer": "ipython3",
   "version": "3.10.9"
  }
 },
 "nbformat": 4,
 "nbformat_minor": 5
}
