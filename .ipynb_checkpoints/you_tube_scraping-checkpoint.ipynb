{
 "cells": [
  {
   "cell_type": "code",
   "execution_count": null,
   "id": "69c44a6e",
   "metadata": {},
   "outputs": [],
   "source": [
    "https://www.analyticsvidhya.com/blog/2021/04/developing-data-web-streamlit-app/?utm_source=reading_list&utm_medium=https://www.analyticsvidhya.com/blog/2021/06/understanding-random-forest/"
   ]
  },
  {
   "cell_type": "code",
   "execution_count": null,
   "id": "ccbbfeda",
   "metadata": {},
   "outputs": [],
   "source": []
  },
  {
   "cell_type": "code",
   "execution_count": 1,
   "id": "ba013c54",
   "metadata": {},
   "outputs": [],
   "source": [
    "from bs4 import BeautifulSoup \n",
    "import re\n",
    "import pandas as pd\n",
    "import numpy as np\n",
    "import requests"
   ]
  },
  {
   "cell_type": "code",
   "execution_count": 2,
   "id": "51691839",
   "metadata": {},
   "outputs": [
    {
     "name": "stdout",
     "output_type": "stream",
     "text": [
      "https://youtu.be/U5oCv3JKWKA?si=Z2I5dyLX-g16o9ke\n"
     ]
    }
   ],
   "source": [
    "domain=\"https://youtu.be/U5oCv3JKWKA?si=Z2I5dyLX-g16o9ke\"\n",
    "response1 = requests.get(domain) # Send a GET request to the URL"
   ]
  },
  {
   "cell_type": "code",
   "execution_count": 4,
   "id": "21c36029",
   "metadata": {},
   "outputs": [],
   "source": [
    "soupdata = BeautifulSoup(response1.content, 'html.parser') # Create a BeautifulSoup object to parse the HTML content\n",
    "info1=soupdata.find_all('div', attrs={\"class\": \"style-scope ytd-expander\", \"id\": \"content\"})"
   ]
  },
  {
   "cell_type": "code",
   "execution_count": 6,
   "id": "bb0420c0",
   "metadata": {},
   "outputs": [
    {
     "name": "stdout",
     "output_type": "stream",
     "text": [
      "[]\n"
     ]
    }
   ],
   "source": [
    "print(info1)"
   ]
  },
  {
   "cell_type": "code",
   "execution_count": null,
   "id": "75b6a88f",
   "metadata": {},
   "outputs": [],
   "source": [
    "<div id=\"content\" class=\"style-scope ytd-expander\">\n",
    "  \n",
    "  <yt-pdg-comment-chip-renderer id=\"paid-comment-chip\" slot=\"content\" class=\"style-scope ytd-comment-renderer\" hidden=\"\"><!--css-build:shady--><!--css-build:shady--><div id=\"comment-chip-container\" class=\"style-scope yt-pdg-comment-chip-renderer\"><yt-icon class=\"style-scope yt-pdg-comment-chip-renderer\"><!--css-build:shady--><!--css-build:shady--></yt-icon><span id=\"comment-chip-price\" class=\"style-scope yt-pdg-comment-chip-renderer\">  </span></div></yt-pdg-comment-chip-renderer><yt-formatted-string id=\"content-text\" slot=\"content\" split-lines=\"\" user-input=\"\" class=\"style-scope ytd-comment-renderer\"><span dir=\"auto\" class=\"style-scope yt-formatted-string\">Love you, my respected brother, although the method is deprecated, I got a lot of concepts from your video, </span><span dir=\"auto\" class=\"style-scope yt-formatted-string\">\n",
    "</span><span dir=\"auto\" class=\"style-scope yt-formatted-string\">Keep it up and share your knowledge...</span></yt-formatted-string>\n",
    "</div>"
   ]
  },
  {
   "cell_type": "code",
   "execution_count": null,
   "id": "393c3de2",
   "metadata": {},
   "outputs": [],
   "source": [
    "soup.find_all('div', attrs={\"class\": \"style-scope ytd-expander\", \"id\": \"content\"})"
   ]
  },
  {
   "cell_type": "code",
   "execution_count": 7,
   "id": "2790ced6",
   "metadata": {},
   "outputs": [
    {
     "name": "stdout",
     "output_type": "stream",
     "text": [
      "Video not found or API quota exceeded.\n"
     ]
    }
   ],
   "source": [
    "import requests\n",
    "\n",
    "# Your API key here\n",
    "api_key = 'YOUR_API_KEY'\n",
    "\n",
    "# Video ID from the YouTube URL\n",
    "video_id = 'U5oCv3JKWKA'\n",
    "\n",
    "# URL for the YouTube Data API\n",
    "url = f'https://www.googleapis.com/youtube/v3/videos?id={video_id}&key={api_key}&part=snippet'\n",
    "\n",
    "# Send a GET request to the API\n",
    "response = requests.get(url)\n",
    "\n",
    "# Parse the JSON response\n",
    "data = response.json()\n",
    "\n",
    "# Extract information from the response\n",
    "if 'items' in data:\n",
    "    video_info = data['items'][0]['snippet']\n",
    "    print('Title:', video_info['title'])\n",
    "    print('Description:', video_info['description'])\n",
    "    print('Published At:', video_info['publishedAt'])\n",
    "else:\n",
    "    print('Video not found or API quota exceeded.')\n"
   ]
  },
  {
   "cell_type": "code",
   "execution_count": null,
   "id": "d66b4daf",
   "metadata": {},
   "outputs": [],
   "source": []
  }
 ],
 "metadata": {
  "kernelspec": {
   "display_name": "Python 3 (ipykernel)",
   "language": "python",
   "name": "python3"
  },
  "language_info": {
   "codemirror_mode": {
    "name": "ipython",
    "version": 3
   },
   "file_extension": ".py",
   "mimetype": "text/x-python",
   "name": "python",
   "nbconvert_exporter": "python",
   "pygments_lexer": "ipython3",
   "version": "3.10.9"
  }
 },
 "nbformat": 4,
 "nbformat_minor": 5
}
